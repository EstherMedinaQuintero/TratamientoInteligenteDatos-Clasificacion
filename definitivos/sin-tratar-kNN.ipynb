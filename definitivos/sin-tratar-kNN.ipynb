{
 "cells": [
  {
   "cell_type": "markdown",
   "metadata": {},
   "source": [
    "El siguiente bloque de código realiza las siguientes acciones:\n",
    "\n",
    "1. Importamos las bibliotecas necesarias: `pandas`, `numpy`, `matplotlib.pyplot`, `ListedColormap`...\n",
    "2. Configuramos `%matplotlib inline` para que las visualizaciones se muestren en el entorno de Jupyter Notebook.\n",
    "3. Establecemos el tamaño predeterminado de las figuras de matplotlib en 16x9 pulgadas.\n",
    "4. Establecemos el estilo de las gráficas en \"ggplot\".\n",
    "5. Importamos las clases y funciones necesarias de scikit-learn para el modelado y evaluación de clasificadores.\n",
    "6. Leemos \"homeLoanAproval_modificado.csv\" utilizando la función `read_csv` de pandas y lo asignamos a la variable `dataframe`.\n",
    "7. Mostramos las primeras 10 filas del dataframe utilizando el método `head(10)`."
   ]
  },
  {
   "cell_type": "code",
   "execution_count": 12,
   "metadata": {},
   "outputs": [
    {
     "data": {
      "text/html": [
       "<div>\n",
       "<style scoped>\n",
       "    .dataframe tbody tr th:only-of-type {\n",
       "        vertical-align: middle;\n",
       "    }\n",
       "\n",
       "    .dataframe tbody tr th {\n",
       "        vertical-align: top;\n",
       "    }\n",
       "\n",
       "    .dataframe thead th {\n",
       "        text-align: right;\n",
       "    }\n",
       "</style>\n",
       "<table border=\"1\" class=\"dataframe\">\n",
       "  <thead>\n",
       "    <tr style=\"text-align: right;\">\n",
       "      <th></th>\n",
       "      <th>Loan_ID</th>\n",
       "      <th>Gender</th>\n",
       "      <th>Married</th>\n",
       "      <th>Dependents</th>\n",
       "      <th>Education</th>\n",
       "      <th>SelfEmployed</th>\n",
       "      <th>ApplicantIncome</th>\n",
       "      <th>CoapplicantIncome</th>\n",
       "      <th>LoanAmount</th>\n",
       "      <th>LoanAmountTerm</th>\n",
       "      <th>PropertyArea</th>\n",
       "      <th>LoanStatus</th>\n",
       "    </tr>\n",
       "  </thead>\n",
       "  <tbody>\n",
       "    <tr>\n",
       "      <th>0</th>\n",
       "      <td>LP001003</td>\n",
       "      <td>Male</td>\n",
       "      <td>Yes</td>\n",
       "      <td>1</td>\n",
       "      <td>Graduate</td>\n",
       "      <td>No</td>\n",
       "      <td>4583</td>\n",
       "      <td>1508</td>\n",
       "      <td>128.0</td>\n",
       "      <td>360.0</td>\n",
       "      <td>Rural</td>\n",
       "      <td>N</td>\n",
       "    </tr>\n",
       "    <tr>\n",
       "      <th>1</th>\n",
       "      <td>LP001005</td>\n",
       "      <td>Male</td>\n",
       "      <td>Yes</td>\n",
       "      <td>0</td>\n",
       "      <td>Graduate</td>\n",
       "      <td>Yes</td>\n",
       "      <td>3000</td>\n",
       "      <td>0</td>\n",
       "      <td>66.0</td>\n",
       "      <td>360.0</td>\n",
       "      <td>Urban</td>\n",
       "      <td>Y</td>\n",
       "    </tr>\n",
       "    <tr>\n",
       "      <th>2</th>\n",
       "      <td>LP001006</td>\n",
       "      <td>Male</td>\n",
       "      <td>Yes</td>\n",
       "      <td>0</td>\n",
       "      <td>Not Graduate</td>\n",
       "      <td>No</td>\n",
       "      <td>2583</td>\n",
       "      <td>2358</td>\n",
       "      <td>120.0</td>\n",
       "      <td>360.0</td>\n",
       "      <td>Urban</td>\n",
       "      <td>Y</td>\n",
       "    </tr>\n",
       "    <tr>\n",
       "      <th>3</th>\n",
       "      <td>LP001008</td>\n",
       "      <td>Male</td>\n",
       "      <td>No</td>\n",
       "      <td>0</td>\n",
       "      <td>Graduate</td>\n",
       "      <td>No</td>\n",
       "      <td>6000</td>\n",
       "      <td>0</td>\n",
       "      <td>141.0</td>\n",
       "      <td>360.0</td>\n",
       "      <td>Urban</td>\n",
       "      <td>Y</td>\n",
       "    </tr>\n",
       "    <tr>\n",
       "      <th>4</th>\n",
       "      <td>LP001011</td>\n",
       "      <td>Male</td>\n",
       "      <td>Yes</td>\n",
       "      <td>2</td>\n",
       "      <td>Graduate</td>\n",
       "      <td>Yes</td>\n",
       "      <td>5417</td>\n",
       "      <td>4196</td>\n",
       "      <td>267.0</td>\n",
       "      <td>360.0</td>\n",
       "      <td>Urban</td>\n",
       "      <td>Y</td>\n",
       "    </tr>\n",
       "    <tr>\n",
       "      <th>5</th>\n",
       "      <td>LP001013</td>\n",
       "      <td>Male</td>\n",
       "      <td>Yes</td>\n",
       "      <td>0</td>\n",
       "      <td>Not Graduate</td>\n",
       "      <td>No</td>\n",
       "      <td>2333</td>\n",
       "      <td>1516</td>\n",
       "      <td>95.0</td>\n",
       "      <td>360.0</td>\n",
       "      <td>Urban</td>\n",
       "      <td>Y</td>\n",
       "    </tr>\n",
       "    <tr>\n",
       "      <th>6</th>\n",
       "      <td>LP001018</td>\n",
       "      <td>Male</td>\n",
       "      <td>Yes</td>\n",
       "      <td>2</td>\n",
       "      <td>Graduate</td>\n",
       "      <td>No</td>\n",
       "      <td>4006</td>\n",
       "      <td>1526</td>\n",
       "      <td>168.0</td>\n",
       "      <td>360.0</td>\n",
       "      <td>Urban</td>\n",
       "      <td>Y</td>\n",
       "    </tr>\n",
       "    <tr>\n",
       "      <th>7</th>\n",
       "      <td>LP001020</td>\n",
       "      <td>Male</td>\n",
       "      <td>Yes</td>\n",
       "      <td>1</td>\n",
       "      <td>Graduate</td>\n",
       "      <td>No</td>\n",
       "      <td>12841</td>\n",
       "      <td>10968</td>\n",
       "      <td>349.0</td>\n",
       "      <td>360.0</td>\n",
       "      <td>Semiurban</td>\n",
       "      <td>N</td>\n",
       "    </tr>\n",
       "    <tr>\n",
       "      <th>8</th>\n",
       "      <td>LP001024</td>\n",
       "      <td>Male</td>\n",
       "      <td>Yes</td>\n",
       "      <td>2</td>\n",
       "      <td>Graduate</td>\n",
       "      <td>No</td>\n",
       "      <td>3200</td>\n",
       "      <td>700</td>\n",
       "      <td>70.0</td>\n",
       "      <td>360.0</td>\n",
       "      <td>Urban</td>\n",
       "      <td>Y</td>\n",
       "    </tr>\n",
       "    <tr>\n",
       "      <th>9</th>\n",
       "      <td>LP001028</td>\n",
       "      <td>Male</td>\n",
       "      <td>Yes</td>\n",
       "      <td>2</td>\n",
       "      <td>Graduate</td>\n",
       "      <td>No</td>\n",
       "      <td>3073</td>\n",
       "      <td>8106</td>\n",
       "      <td>200.0</td>\n",
       "      <td>360.0</td>\n",
       "      <td>Urban</td>\n",
       "      <td>Y</td>\n",
       "    </tr>\n",
       "  </tbody>\n",
       "</table>\n",
       "</div>"
      ],
      "text/plain": [
       "    Loan_ID Gender Married  Dependents     Education SelfEmployed  \\\n",
       "0  LP001003   Male     Yes           1      Graduate           No   \n",
       "1  LP001005   Male     Yes           0      Graduate          Yes   \n",
       "2  LP001006   Male     Yes           0  Not Graduate           No   \n",
       "3  LP001008   Male      No           0      Graduate           No   \n",
       "4  LP001011   Male     Yes           2      Graduate          Yes   \n",
       "5  LP001013   Male     Yes           0  Not Graduate           No   \n",
       "6  LP001018   Male     Yes           2      Graduate           No   \n",
       "7  LP001020   Male     Yes           1      Graduate           No   \n",
       "8  LP001024   Male     Yes           2      Graduate           No   \n",
       "9  LP001028   Male     Yes           2      Graduate           No   \n",
       "\n",
       "   ApplicantIncome  CoapplicantIncome  LoanAmount  LoanAmountTerm  \\\n",
       "0             4583               1508       128.0           360.0   \n",
       "1             3000                  0        66.0           360.0   \n",
       "2             2583               2358       120.0           360.0   \n",
       "3             6000                  0       141.0           360.0   \n",
       "4             5417               4196       267.0           360.0   \n",
       "5             2333               1516        95.0           360.0   \n",
       "6             4006               1526       168.0           360.0   \n",
       "7            12841              10968       349.0           360.0   \n",
       "8             3200                700        70.0           360.0   \n",
       "9             3073               8106       200.0           360.0   \n",
       "\n",
       "  PropertyArea LoanStatus  \n",
       "0        Rural          N  \n",
       "1        Urban          Y  \n",
       "2        Urban          Y  \n",
       "3        Urban          Y  \n",
       "4        Urban          Y  \n",
       "5        Urban          Y  \n",
       "6        Urban          Y  \n",
       "7    Semiurban          N  \n",
       "8        Urban          Y  \n",
       "9        Urban          Y  "
      ]
     },
     "execution_count": 12,
     "metadata": {},
     "output_type": "execute_result"
    }
   ],
   "source": [
    "import pandas as pd\n",
    "import numpy as np\n",
    "import matplotlib.pyplot as plt\n",
    "from matplotlib.colors import ListedColormap\n",
    "import matplotlib.patches as mpatches\n",
    "import seaborn as sns\n",
    "from sklearn.metrics import confusion_matrix\n",
    "\n",
    "%matplotlib inline\n",
    "plt.rcParams['figure.figsize'] = (16, 9)\n",
    "plt.style.use('ggplot')\n",
    "\n",
    "from sklearn.model_selection import train_test_split\n",
    "from sklearn.preprocessing import MinMaxScaler\n",
    "from sklearn.neighbors import KNeighborsClassifier\n",
    "from sklearn.metrics import classification_report\n",
    "from sklearn.metrics import confusion_matrix\n",
    "\n",
    "dataframe = pd.read_csv(r\"homeLoanAproval_modificado.csv\",sep=',')\n",
    "dataframe.head(10)"
   ]
  },
  {
   "cell_type": "markdown",
   "metadata": {},
   "source": [
    "Ahora, separamos los datos:\n",
    "\n",
    "1. Seleccionamos las columnas 'ApplicantIncome', 'Dependents', 'LoanAmount' y 'LoanAmountTerm' del dataframe y lo asignamos a la variable `X`. Estas columnas representan las características (o variables independientes) que se utilizarán para el modelo de clasificación.\n",
    "\n",
    "2. Asignamos la columna 'LoanStatus' del dataframe a la variable `y`. Esta columna representa la variable objetivo (o variable dependiente) que el modelo intentará predecir.\n",
    "\n",
    "3. Dividimos el conjunto de datos en conjuntos de entrenamiento y prueba utilizando la función `train_test_split` de scikit-learn. El 75% de los datos se utilizan para el entrenamiento del modelo y el 25% restante se utiliza para probar el modelo. El parámetro `random_state=0` se utiliza para asegurar que la división sea reproducible.\n",
    "\n",
    "4. Creamos un objeto `MinMaxScaler`. Este objeto se utiliza para escalar las características a un rango específico (por defecto entre 0 y 1). Esto se hace para normalizar los datos y asegurar que ciertas características no influyan desproporcionadamente en el modelo debido a su escala.\n",
    "\n",
    "5. Ajustamos el escalador a los datos de entrenamiento y luego se transformna los datos de entrenamiento utilizando el escalador ajustado. Esto normaliza los datos de entrenamiento.\n",
    "\n",
    "6. Transformamos los datos de prueba utilizando el mismo escalador. Es importante utilizar el mismo escalador para los datos de entrenamiento y prueba para asegurar que los datos estén en la misma escala."
   ]
  },
  {
   "cell_type": "code",
   "execution_count": 13,
   "metadata": {},
   "outputs": [],
   "source": [
    "X = dataframe[['ApplicantIncome', 'CoapplicantIncome','Dependents', 'LoanAmount','LoanAmountTerm']].values\n",
    "y = dataframe['LoanStatus'].values\n",
    "\n",
    "X_train, X_test, y_train, y_test = train_test_split(X, y, random_state=0)\n",
    "scaler = MinMaxScaler()\n",
    "X_train = scaler.fit_transform(X_train)\n",
    "X_test = scaler.transform(X_test)"
   ]
  },
  {
   "cell_type": "markdown",
   "metadata": {},
   "source": [
    "1. Establecemos el número de vecinos a 7.\n",
    "\n",
    "2. Creamos un objeto `KNeighborsClassifier` con 7 vecinos.\n",
    "\n",
    "3. Ajustamos el clasificador a los datos de entrenamiento. Esto implica almacenar los datos de entrenamiento para que puedan ser utilizados en la clasificación de nuevas instancias.\n",
    "\n",
    "4. Imprimimos la precisión del clasificador K-NN en el conjunto de entrenamiento. La precisión se calcula como la fracción de instancias de entrenamiento que fueron correctamente clasificadas por el clasificador.\n",
    "\n",
    "5. Imprimimos la precisión del clasificador K-NN en el conjunto de prueba. La precisión se calcula como la fracción de instancias de prueba que fueron correctamente clasificadas por el clasificador."
   ]
  },
  {
   "cell_type": "code",
   "execution_count": 14,
   "metadata": {},
   "outputs": [
    {
     "name": "stdout",
     "output_type": "stream",
     "text": [
      "Accuracy of K-NN classifier on training set: 0.78\n",
      "Accuracy of K-NN classifier on test set: 0.60\n"
     ]
    }
   ],
   "source": [
    "n_neighbors = 6\n",
    "\n",
    "knn = KNeighborsClassifier(n_neighbors)\n",
    "knn.fit(X_train, y_train)\n",
    "print('Accuracy of K-NN classifier on training set: {:.2f}'\n",
    "     .format(knn.score(X_train, y_train)))\n",
    "print('Accuracy of K-NN classifier on test set: {:.2f}'\n",
    "     .format(knn.score(X_test, y_test)))"
   ]
  },
  {
   "cell_type": "markdown",
   "metadata": {},
   "source": [
    "1. Utilizamos el modelo K-NN entrenado para predecir las etiquetas de los datos de prueba (`X_test`). Las predicciones las almacenanamos en la variable `pred`.\n",
    "\n",
    "2. Imprimimos la matriz de confusión de las predicciones.\n",
    "\n",
    "3. Imprimimos un informe de clasificación."
   ]
  },
  {
   "cell_type": "code",
   "execution_count": 15,
   "metadata": {},
   "outputs": [
    {
     "name": "stdout",
     "output_type": "stream",
     "text": [
      "[[ 8 32]\n",
      " [16 64]]\n",
      "              precision    recall  f1-score   support\n",
      "\n",
      "           N       0.33      0.20      0.25        40\n",
      "           Y       0.67      0.80      0.73        80\n",
      "\n",
      "    accuracy                           0.60       120\n",
      "   macro avg       0.50      0.50      0.49       120\n",
      "weighted avg       0.56      0.60      0.57       120\n",
      "\n"
     ]
    }
   ],
   "source": [
    "pred = knn.predict(X_test)\n",
    "print(confusion_matrix(y_test, pred))\n",
    "print(classification_report(y_test, pred))"
   ]
  },
  {
   "cell_type": "markdown",
   "metadata": {},
   "source": [
    "Este informe de clasificación proporciona varias métricas para evaluar el rendimiento del modelo de clasificación. Aquí está el desglose:\n",
    "\n",
    "La matriz de confusión es la siguiente:\n",
    "\n"
   ]
  },
  {
   "cell_type": "markdown",
   "metadata": {
    "vscode": {
     "languageId": ""
    }
   },
   "source": [
    "[[ 3 38]\n",
    "[12 67]]"
   ]
  },
  {
   "cell_type": "markdown",
   "metadata": {},
   "source": [
    "\n",
    "\n",
    "Esto significa que:\n",
    "\n",
    "- El modelo predijo correctamente que 3 instancias eran de la clase 'N' (verdaderos negativos).\n",
    "- El modelo predijo incorrectamente que 38 instancias eran de la clase 'Y' cuando en realidad eran de la clase 'N' (falsos positivos).\n",
    "- El modelo predijo incorrectamente que 12 instancias eran de la clase 'N' cuando en realidad eran de la clase 'Y' (falsos negativos).\n",
    "- El modelo predijo correctamente que 67 instancias eran de la clase 'Y' (verdaderos positivos).\n",
    "\n",
    "Las métricas de clasificación para cada clase son las siguientes:\n",
    "\n",
    "- Para la clase 'N':\n",
    "  - Precisión: 0.20. Esto significa que cuando el modelo predice que una instancia es de la clase 'N', es correcto el 20% de las veces.\n",
    "  - Recall: 0.07. Esto significa que el modelo es capaz de identificar correctamente el 7% de las instancias reales de la clase 'N'.\n",
    "  - F1-score: 0.11. Este es un promedio ponderado de la precisión y el recall.\n",
    "\n",
    "- Para la clase 'Y':\n",
    "  - Precisión: 0.64. Esto significa que cuando el modelo predice que una instancia es de la clase 'Y', es correcto el 64% de las veces.\n",
    "  - Recall: 0.85. Esto significa que el modelo es capaz de identificar correctamente el 85% de las instancias reales de la clase 'Y'.\n",
    "  - F1-score: 0.73. Este es un promedio ponderado de la precisión y el recall.\n",
    "\n",
    "Las métricas de clasificación generales son las siguientes:\n",
    "\n",
    "- Accuracy: 0.58. Esto significa que el modelo predice correctamente el 58% de las instancias.\n",
    "- Macro avg: Este es el promedio de las métricas para cada clase, sin tener en cuenta el desequilibrio de clases. La precisión, el recall y el F1-score son 0.42.\n",
    "- Weighted avg: Este es el promedio de las métricas para cada clase, ponderado por el número de instancias en cada clase. La precisión, el recall y el F1-score son 0.49, 0.58 y 0.52 respectivamente."
   ]
  },
  {
   "cell_type": "code",
   "execution_count": 19,
   "metadata": {},
   "outputs": [
    {
     "data": {
      "image/png": "[encoded data removed]",
      "text/plain": [
       "<Figure size 1000x700 with 2 Axes>"
      ]
     },
     "metadata": {},
     "output_type": "display_data"
    }
   ],
   "source": [
    "import seaborn as sns\n",
    "knn = KNeighborsClassifier(n_neighbors=6, weights='distance')\n",
    "knn.fit(X_train, y_train)\n",
    "# Importar las bibliotecas necesarias\n",
    "# Calcular la matriz de confusión\n",
    "cm = confusion_matrix(y_test, pred)\n",
    "\n",
    "# Visualizar la matriz de confusión\n",
    "plt.figure(figsize=(10,7))\n",
    "sns.heatmap(cm, annot=True, fmt='d')\n",
    "plt.xlabel('Predicted')\n",
    "plt.ylabel('Truth')\n",
    "\n",
    "plt.show()\n"
   ]
  },
  {
   "cell_type": "code",
   "execution_count": 18,
   "metadata": {},
   "outputs": [
    {
     "data": {
      "image/png": "[encoded data removed]",
      "text/plain": [
       "<Figure size 1000x700 with 2 Axes>"
      ]
     },
     "metadata": {},
     "output_type": "display_data"
    }
   ],
   "source": [
    "# Predicciones\n",
    "pred = knn.predict(X_test)\n",
    "\n",
    "# Matriz de confusión\n",
    "cm = confusion_matrix(y_test, pred)\n",
    "\n",
    "# Visualización con Seaborn\n",
    "plt.figure(figsize=(10,7))\n",
    "sns.heatmap(cm, annot=True, fmt='d')\n",
    "plt.xlabel('Predicted')\n",
    "plt.ylabel('Truth')\n",
    "\n",
    "plt.show()"
   ]
  }
 ],
 "metadata": {
  "kernelspec": {
   "display_name": "Python 3",
   "language": "python",
   "name": "python3"
  },
  "language_info": {
   "codemirror_mode": {
    "name": "ipython",
    "version": 3
   },
   "file_extension": ".py",
   "mimetype": "text/x-python",
   "name": "python",
   "nbconvert_exporter": "python",
   "pygments_lexer": "ipython3",
   "version": "3.10.12"
  }
 },
 "nbformat": 4,
 "nbformat_minor": 2
}
